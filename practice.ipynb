{
 "cells": [
  {
   "cell_type": "markdown",
   "id": "01be63c7",
   "metadata": {},
   "source": [
    "# インポート"
   ]
  },
  {
   "cell_type": "code",
   "execution_count": 1,
   "id": "5b71e63b",
   "metadata": {},
   "outputs": [],
   "source": [
    "import numpy as np"
   ]
  },
  {
   "cell_type": "markdown",
   "id": "2f878930",
   "metadata": {},
   "source": [
    "# 行列から幾何平均法でウェイトを求める"
   ]
  },
  {
   "cell_type": "markdown",
   "id": "93ce13fe",
   "metadata": {},
   "source": [
    "## 行列から幾何平均を求める"
   ]
  },
  {
   "cell_type": "code",
   "execution_count": null,
   "id": "deb9b5eb",
   "metadata": {},
   "outputs": [
    {
     "data": {
      "text/plain": [
       "6"
      ]
     },
     "execution_count": 2,
     "metadata": {},
     "output_type": "execute_result"
    }
   ],
   "source": [
    "# 配列の要素全てをかけ算する\n",
    "np.prod([1, 2, 3])"
   ]
  },
  {
   "cell_type": "code",
   "execution_count": null,
   "id": "a30c19ea",
   "metadata": {},
   "outputs": [
    {
     "data": {
      "text/plain": [
       "array([  6, 120, 504])"
      ]
     },
     "execution_count": 3,
     "metadata": {},
     "output_type": "execute_result"
    }
   ],
   "source": [
    "# 計算用行列\n",
    "mat = np.array([\n",
    "    [1, 2, 3],\n",
    "    [4, 5, 6],\n",
    "    [7, 8, 9]\n",
    "])\n",
    "\n",
    "np.prod(mat, axis = 1) # axis = 1で行ごとに要素全てをかけ算する"
   ]
  },
  {
   "cell_type": "code",
   "execution_count": 6,
   "id": "520dd017",
   "metadata": {},
   "outputs": [
    {
     "data": {
      "text/plain": [
       "(3, 3)"
      ]
     },
     "execution_count": 6,
     "metadata": {},
     "output_type": "execute_result"
    }
   ],
   "source": [
    "mat.shape"
   ]
  },
  {
   "cell_type": "code",
   "execution_count": null,
   "id": "8a6164fd",
   "metadata": {},
   "outputs": [
    {
     "data": {
      "text/plain": [
       "3"
      ]
     },
     "execution_count": 7,
     "metadata": {},
     "output_type": "execute_result"
    }
   ],
   "source": [
    "mat.shape[0] #これで、最初の要素にアクセスする。つまり、行列の行数は3"
   ]
  },
  {
   "cell_type": "code",
   "execution_count": 8,
   "id": "b64e63bc",
   "metadata": {},
   "outputs": [
    {
     "data": {
      "text/plain": [
       "array([1.81712059, 4.93242415, 7.95811442])"
      ]
     },
     "execution_count": 8,
     "metadata": {},
     "output_type": "execute_result"
    }
   ],
   "source": [
    "# 計算用行列\n",
    "mat = np.array([\n",
    "    [1, 2, 3],\n",
    "    [4, 5, 6],\n",
    "    [7, 8, 9]\n",
    "])\n",
    "\n",
    "\n",
    "product = np.prod(mat, axis = 1)\n",
    "geo_mean = product ** (1 / mat.shape[0])\n",
    "geo_mean"
   ]
  },
  {
   "cell_type": "markdown",
   "id": "2f5fd81f",
   "metadata": {},
   "source": [
    "## 幾何平均からウェイトを求める"
   ]
  },
  {
   "cell_type": "code",
   "execution_count": null,
   "id": "ce0456e4",
   "metadata": {},
   "outputs": [
    {
     "data": {
      "text/plain": [
       "array([0.12354927, 0.33536432, 0.5410864 ])"
      ]
     },
     "execution_count": 9,
     "metadata": {},
     "output_type": "execute_result"
    }
   ],
   "source": [
    "# 計算用行列\n",
    "mat = np.array([\n",
    "    [1, 2, 3],\n",
    "    [4, 5, 6],\n",
    "    [7, 8, 9]\n",
    "])\n",
    "\n",
    "\n",
    "product = np.prod(mat, axis = 1)\n",
    "geo_mean = product ** (1 / mat.shape[0])\n",
    "\n",
    "geo_mean / np.sum(geo_mean) # ウェイト"
   ]
  },
  {
   "cell_type": "markdown",
   "id": "2a4728d4",
   "metadata": {},
   "source": [
    "## 行列から幾何平均法でウェイトを求める関数"
   ]
  },
  {
   "cell_type": "code",
   "execution_count": 5,
   "id": "5d7e1796",
   "metadata": {},
   "outputs": [],
   "source": [
    "def geometric_mean_weights(matrix):\n",
    "    product = np.prod(matrix, axis = 1) # 行方向に各要素を乗じた値を求める\n",
    "    geo_mean = product ** (1 / matrix.shape[0]) # 幾何平均を求める\n",
    "    return geo_mean / np.sum(geo_mean) # ウェイトを求める"
   ]
  },
  {
   "cell_type": "code",
   "execution_count": 15,
   "id": "af397925",
   "metadata": {},
   "outputs": [
    {
     "data": {
      "text/plain": [
       "array([0.12354927, 0.33536432, 0.5410864 ])"
      ]
     },
     "execution_count": 15,
     "metadata": {},
     "output_type": "execute_result"
    }
   ],
   "source": [
    "# 計算用行列\n",
    "mat = np.array([\n",
    "    [1, 2, 3],\n",
    "    [4, 5, 6],\n",
    "    [7, 8, 9]\n",
    "])\n",
    "geometric_mean_weights(mat)"
   ]
  },
  {
   "cell_type": "markdown",
   "id": "11eb2be9",
   "metadata": {},
   "source": [
    "# 行列の操作練習"
   ]
  },
  {
   "cell_type": "code",
   "execution_count": 13,
   "id": "dffdfe7c",
   "metadata": {},
   "outputs": [],
   "source": [
    "mat1 = np.array([[1, 5, 3],\n",
    "                [1/5, 1, 2],\n",
    "                [1/3, 1/2, 1]])\n",
    "\n",
    "mat2 = np.array([[1, 7, 2],\n",
    "                [1/7, 1, 5],\n",
    "                [1/2, 1/5, 1]])\n",
    "\n"
   ]
  },
  {
   "cell_type": "code",
   "execution_count": 14,
   "id": "4aeeaf5b",
   "metadata": {},
   "outputs": [
    {
     "data": {
      "text/plain": [
       "array([0.65707139, 0.19630686, 0.14662175])"
      ]
     },
     "execution_count": 14,
     "metadata": {},
     "output_type": "execute_result"
    }
   ],
   "source": [
    "geometric_mean_weights(mat1)"
   ]
  },
  {
   "cell_type": "code",
   "execution_count": 15,
   "id": "384719e1",
   "metadata": {},
   "outputs": [
    {
     "data": {
      "text/plain": [
       "array([0.63959961, 0.23722266, 0.12317773])"
      ]
     },
     "execution_count": 15,
     "metadata": {},
     "output_type": "execute_result"
    }
   ],
   "source": [
    "geometric_mean_weights(mat2)"
   ]
  },
  {
   "cell_type": "code",
   "execution_count": 17,
   "id": "de7c9a88",
   "metadata": {},
   "outputs": [],
   "source": [
    "criteria_weights_practice = np.array([0.3, 0.7])"
   ]
  },
  {
   "cell_type": "code",
   "execution_count": 23,
   "id": "a935a948",
   "metadata": {},
   "outputs": [
    {
     "data": {
      "text/plain": [
       "array([[0.65707139, 0.63959961],\n",
       "       [0.19630686, 0.23722266],\n",
       "       [0.14662175, 0.12317773]])"
      ]
     },
     "execution_count": 23,
     "metadata": {},
     "output_type": "execute_result"
    }
   ],
   "source": [
    "np.array([geometric_mean_weights(mat1), geometric_mean_weights(mat2)]).T"
   ]
  },
  {
   "cell_type": "code",
   "execution_count": 24,
   "id": "22a21757",
   "metadata": {},
   "outputs": [
    {
     "data": {
      "text/plain": [
       "array([0.64484115, 0.22494792, 0.13021093])"
      ]
     },
     "execution_count": 24,
     "metadata": {},
     "output_type": "execute_result"
    }
   ],
   "source": [
    "np.array([geometric_mean_weights(mat1), geometric_mean_weights(mat2)]).T @ criteria_weights_practice"
   ]
  },
  {
   "cell_type": "code",
   "execution_count": 3,
   "id": "387ff99b",
   "metadata": {},
   "outputs": [
    {
     "data": {
      "text/plain": [
       "[array([[1., 1., 1.],\n",
       "        [1., 1., 1.],\n",
       "        [1., 1., 1.]]),\n",
       " array([[1., 1., 1.],\n",
       "        [1., 1., 1.],\n",
       "        [1., 1., 1.]])]"
      ]
     },
     "execution_count": 3,
     "metadata": {},
     "output_type": "execute_result"
    }
   ],
   "source": [
    "mat = [np.ones((3, 3)) for _ in range(2)]\n",
    "mat"
   ]
  },
  {
   "cell_type": "code",
   "execution_count": 6,
   "id": "ad3972e8",
   "metadata": {},
   "outputs": [
    {
     "data": {
      "text/plain": [
       "[array([0.33333333, 0.33333333, 0.33333333]),\n",
       " array([0.33333333, 0.33333333, 0.33333333])]"
      ]
     },
     "execution_count": 6,
     "metadata": {},
     "output_type": "execute_result"
    }
   ],
   "source": [
    "alt_weights_parctice = [geometric_mean_weights(i) for i in mat]\n",
    "alt_weights_parctice"
   ]
  },
  {
   "cell_type": "code",
   "execution_count": null,
   "id": "b3faf8d3",
   "metadata": {},
   "outputs": [
    {
     "data": {
      "text/plain": [
       "array([0.3, 0.7])"
      ]
     },
     "execution_count": 9,
     "metadata": {},
     "output_type": "execute_result"
    }
   ],
   "source": [
    "criteria_weights_practice = np.array([0.3, 0.7])\n",
    "criteria_weights_practice"
   ]
  },
  {
   "cell_type": "code",
   "execution_count": 7,
   "id": "a3399f78",
   "metadata": {},
   "outputs": [
    {
     "data": {
      "text/plain": [
       "array([[0.33333333, 0.33333333],\n",
       "       [0.33333333, 0.33333333],\n",
       "       [0.33333333, 0.33333333]])"
      ]
     },
     "execution_count": 7,
     "metadata": {},
     "output_type": "execute_result"
    }
   ],
   "source": [
    "alt_weights_parctice_trans =  np.array(alt_weights_parctice).T\n",
    "alt_weights_parctice_trans"
   ]
  },
  {
   "cell_type": "code",
   "execution_count": null,
   "id": "47f19186",
   "metadata": {},
   "outputs": [
    {
     "data": {
      "text/plain": [
       "array([0.33333333, 0.33333333, 0.33333333])"
      ]
     },
     "execution_count": 10,
     "metadata": {},
     "output_type": "execute_result"
    }
   ],
   "source": [
    "alt_weights_parctice_trans @ criteria_weights_practice # @は内積。criteria_weights_practiceはベクトルとして扱われる。"
   ]
  },
  {
   "cell_type": "code",
   "execution_count": null,
   "id": "7ff0da9a",
   "metadata": {},
   "outputs": [],
   "source": []
  }
 ],
 "metadata": {
  "kernelspec": {
   "display_name": "base",
   "language": "python",
   "name": "python3"
  },
  "language_info": {
   "codemirror_mode": {
    "name": "ipython",
    "version": 3
   },
   "file_extension": ".py",
   "mimetype": "text/x-python",
   "name": "python",
   "nbconvert_exporter": "python",
   "pygments_lexer": "ipython3",
   "version": "3.12.7"
  }
 },
 "nbformat": 4,
 "nbformat_minor": 5
}
