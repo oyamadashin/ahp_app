{
 "cells": [
  {
   "cell_type": "markdown",
   "id": "01be63c7",
   "metadata": {},
   "source": [
    "# インポート"
   ]
  },
  {
   "cell_type": "code",
   "execution_count": 1,
   "id": "5b71e63b",
   "metadata": {},
   "outputs": [],
   "source": [
    "import numpy as np"
   ]
  },
  {
   "cell_type": "markdown",
   "id": "c10c59cf",
   "metadata": {},
   "source": [
    "# 一対比較行列を作る(2×2)"
   ]
  },
  {
   "cell_type": "code",
   "execution_count": 28,
   "id": "f819b63c",
   "metadata": {},
   "outputs": [
    {
     "data": {
      "text/plain": [
       "array([[1.        , 3.        ],\n",
       "       [0.33333333, 1.        ]])"
      ]
     },
     "execution_count": 28,
     "metadata": {},
     "output_type": "execute_result"
    }
   ],
   "source": [
    "# 空の行列をつくる(2×2)\n",
    "A = np.zeros((2, 2))\n",
    "\n",
    "# 行列の上半分を入力する\n",
    "A[0][1] = 3\n",
    "\n",
    "# 行列の下半分を入力する\n",
    "for i in range(2):\n",
    "    for j in range(2):\n",
    "        if i > j:\n",
    "            A[i][j] = 1/A[j][i]\n",
    "\n",
    "# 対角行列を1にする\n",
    "np.fill_diagonal(A, 1)\n",
    "A"
   ]
  },
  {
   "cell_type": "markdown",
   "id": "599fd2ca",
   "metadata": {},
   "source": [
    "# 一対比較行列を作る(3×3)"
   ]
  },
  {
   "cell_type": "code",
   "execution_count": null,
   "id": "e2341b84",
   "metadata": {},
   "outputs": [
    {
     "data": {
      "text/plain": [
       "array([[1.        , 3.        , 5.        ],\n",
       "       [0.33333333, 1.        , 7.        ],\n",
       "       [0.2       , 0.14285714, 1.        ]])"
      ]
     },
     "execution_count": 29,
     "metadata": {},
     "output_type": "execute_result"
    }
   ],
   "source": [
    "# 空の行列をつくる(3×3)\n",
    "C = np.zeros((3, 3))\n",
    "\n",
    "# 行列の上半分を入力する\n",
    "C[0][1] = 3\n",
    "B[0][2] = 5\n",
    "B[1][2] = 7\n",
    "\n",
    "# 行列の下半分を入力する\n",
    "for i in range(3):\n",
    "    for j in range(3):\n",
    "        if i > j:\n",
    "            B[i][j] = 1/C[j][i]\n",
    "\n",
    "# 対角行列を1にする\n",
    "np.fill_diagonal(C, 1)\n",
    "C"
   ]
  },
  {
   "cell_type": "markdown",
   "id": "2f878930",
   "metadata": {},
   "source": [
    "# 行列から幾何平均法でウェイトを求める"
   ]
  },
  {
   "cell_type": "markdown",
   "id": "93ce13fe",
   "metadata": {},
   "source": [
    "## 行列から幾何平均を求める"
   ]
  },
  {
   "cell_type": "code",
   "execution_count": 2,
   "id": "deb9b5eb",
   "metadata": {},
   "outputs": [
    {
     "data": {
      "text/plain": [
       "6"
      ]
     },
     "execution_count": 2,
     "metadata": {},
     "output_type": "execute_result"
    }
   ],
   "source": [
    "# 配列の要素全てをかけ算する\n",
    "np.prod([1, 2, 3])"
   ]
  },
  {
   "cell_type": "code",
   "execution_count": 3,
   "id": "a30c19ea",
   "metadata": {},
   "outputs": [
    {
     "data": {
      "text/plain": [
       "array([  6, 120, 504])"
      ]
     },
     "execution_count": 3,
     "metadata": {},
     "output_type": "execute_result"
    }
   ],
   "source": [
    "# 計算用行列\n",
    "mat = np.array([\n",
    "    [1, 2, 3],\n",
    "    [4, 5, 6],\n",
    "    [7, 8, 9]\n",
    "])\n",
    "\n",
    "np.prod(mat, axis = 1) # axis = 1で行ごとに要素全てをかけ算する"
   ]
  },
  {
   "cell_type": "code",
   "execution_count": 4,
   "id": "520dd017",
   "metadata": {},
   "outputs": [
    {
     "data": {
      "text/plain": [
       "(3, 3)"
      ]
     },
     "execution_count": 4,
     "metadata": {},
     "output_type": "execute_result"
    }
   ],
   "source": [
    "mat.shape"
   ]
  },
  {
   "cell_type": "code",
   "execution_count": 5,
   "id": "8a6164fd",
   "metadata": {},
   "outputs": [
    {
     "data": {
      "text/plain": [
       "3"
      ]
     },
     "execution_count": 5,
     "metadata": {},
     "output_type": "execute_result"
    }
   ],
   "source": [
    "mat.shape[0] #これで、最初の要素にアクセスする。つまり、行列の行数は3"
   ]
  },
  {
   "cell_type": "code",
   "execution_count": 6,
   "id": "b64e63bc",
   "metadata": {},
   "outputs": [
    {
     "data": {
      "text/plain": [
       "array([1.81712059, 4.93242415, 7.95811442])"
      ]
     },
     "execution_count": 6,
     "metadata": {},
     "output_type": "execute_result"
    }
   ],
   "source": [
    "# 計算用行列\n",
    "mat = np.array([\n",
    "    [1, 2, 3],\n",
    "    [4, 5, 6],\n",
    "    [7, 8, 9]\n",
    "])\n",
    "\n",
    "\n",
    "product = np.prod(mat, axis = 1)\n",
    "geo_mean = product ** (1 / mat.shape[0])\n",
    "geo_mean"
   ]
  },
  {
   "cell_type": "markdown",
   "id": "2f5fd81f",
   "metadata": {},
   "source": [
    "## 幾何平均からウェイトを求める"
   ]
  },
  {
   "cell_type": "code",
   "execution_count": 7,
   "id": "ce0456e4",
   "metadata": {},
   "outputs": [
    {
     "data": {
      "text/plain": [
       "array([0.12354927, 0.33536432, 0.5410864 ])"
      ]
     },
     "execution_count": 7,
     "metadata": {},
     "output_type": "execute_result"
    }
   ],
   "source": [
    "# 計算用行列\n",
    "mat = np.array([\n",
    "    [1, 2, 3],\n",
    "    [4, 5, 6],\n",
    "    [7, 8, 9]\n",
    "])\n",
    "\n",
    "\n",
    "product = np.prod(mat, axis = 1)\n",
    "geo_mean = product ** (1 / mat.shape[0])\n",
    "\n",
    "geo_mean / np.sum(geo_mean) # ウェイト"
   ]
  },
  {
   "cell_type": "markdown",
   "id": "2a4728d4",
   "metadata": {},
   "source": [
    "## 行列から幾何平均法でウェイトを求める関数"
   ]
  },
  {
   "cell_type": "code",
   "execution_count": 8,
   "id": "5d7e1796",
   "metadata": {},
   "outputs": [],
   "source": [
    "def geometric_mean_weights(matrix):\n",
    "    product = np.prod(matrix, axis = 1) # 行方向に各要素を乗じた値を求める\n",
    "    geo_mean = product ** (1 / matrix.shape[0]) # 幾何平均を求める\n",
    "    return geo_mean / np.sum(geo_mean) # ウェイトを求める"
   ]
  },
  {
   "cell_type": "code",
   "execution_count": 9,
   "id": "af397925",
   "metadata": {},
   "outputs": [
    {
     "data": {
      "text/plain": [
       "array([0.12354927, 0.33536432, 0.5410864 ])"
      ]
     },
     "execution_count": 9,
     "metadata": {},
     "output_type": "execute_result"
    }
   ],
   "source": [
    "# 計算用行列\n",
    "mat = np.array([\n",
    "    [1, 2, 3],\n",
    "    [4, 5, 6],\n",
    "    [7, 8, 9]\n",
    "])\n",
    "geometric_mean_weights(mat)"
   ]
  },
  {
   "cell_type": "code",
   "execution_count": 30,
   "id": "2a891c8a",
   "metadata": {},
   "outputs": [
    {
     "data": {
      "text/plain": [
       "array([0.75, 0.25])"
      ]
     },
     "execution_count": 30,
     "metadata": {},
     "output_type": "execute_result"
    }
   ],
   "source": [
    "geometric_mean_weights(A)"
   ]
  },
  {
   "cell_type": "code",
   "execution_count": null,
   "id": "77adecc8",
   "metadata": {},
   "outputs": [
    {
     "data": {
      "text/plain": [
       "array([0.6017683 , 0.32363674, 0.07459497])"
      ]
     },
     "execution_count": 31,
     "metadata": {},
     "output_type": "execute_result"
    }
   ],
   "source": [
    "geometric_mean_weights(C)"
   ]
  },
  {
   "cell_type": "markdown",
   "id": "11eb2be9",
   "metadata": {},
   "source": [
    "# 行列の操作練習"
   ]
  },
  {
   "cell_type": "code",
   "execution_count": 10,
   "id": "dffdfe7c",
   "metadata": {},
   "outputs": [],
   "source": [
    "mat1 = np.array([[1, 5, 3],\n",
    "                [1/5, 1, 2],\n",
    "                [1/3, 1/2, 1]])\n",
    "\n",
    "mat2 = np.array([[1, 7, 2],\n",
    "                [1/7, 1, 5],\n",
    "                [1/2, 1/5, 1]])\n",
    "\n"
   ]
  },
  {
   "cell_type": "code",
   "execution_count": 11,
   "id": "4aeeaf5b",
   "metadata": {},
   "outputs": [
    {
     "data": {
      "text/plain": [
       "array([0.65707139, 0.19630686, 0.14662175])"
      ]
     },
     "execution_count": 11,
     "metadata": {},
     "output_type": "execute_result"
    }
   ],
   "source": [
    "geometric_mean_weights(mat1)"
   ]
  },
  {
   "cell_type": "code",
   "execution_count": 12,
   "id": "384719e1",
   "metadata": {},
   "outputs": [
    {
     "data": {
      "text/plain": [
       "array([0.63959961, 0.23722266, 0.12317773])"
      ]
     },
     "execution_count": 12,
     "metadata": {},
     "output_type": "execute_result"
    }
   ],
   "source": [
    "geometric_mean_weights(mat2)"
   ]
  },
  {
   "cell_type": "code",
   "execution_count": 13,
   "id": "de7c9a88",
   "metadata": {},
   "outputs": [],
   "source": [
    "criteria_weights_practice = np.array([0.3, 0.7])"
   ]
  },
  {
   "cell_type": "code",
   "execution_count": 14,
   "id": "a935a948",
   "metadata": {},
   "outputs": [
    {
     "data": {
      "text/plain": [
       "array([[0.65707139, 0.63959961],\n",
       "       [0.19630686, 0.23722266],\n",
       "       [0.14662175, 0.12317773]])"
      ]
     },
     "execution_count": 14,
     "metadata": {},
     "output_type": "execute_result"
    }
   ],
   "source": [
    "np.array([geometric_mean_weights(mat1), geometric_mean_weights(mat2)]).T"
   ]
  },
  {
   "cell_type": "code",
   "execution_count": 15,
   "id": "22a21757",
   "metadata": {},
   "outputs": [
    {
     "data": {
      "text/plain": [
       "array([0.64484115, 0.22494792, 0.13021093])"
      ]
     },
     "execution_count": 15,
     "metadata": {},
     "output_type": "execute_result"
    }
   ],
   "source": [
    "np.array([geometric_mean_weights(mat1), geometric_mean_weights(mat2)]).T @ criteria_weights_practice"
   ]
  },
  {
   "cell_type": "code",
   "execution_count": 16,
   "id": "387ff99b",
   "metadata": {},
   "outputs": [
    {
     "data": {
      "text/plain": [
       "[array([[1., 1., 1.],\n",
       "        [1., 1., 1.],\n",
       "        [1., 1., 1.]]),\n",
       " array([[1., 1., 1.],\n",
       "        [1., 1., 1.],\n",
       "        [1., 1., 1.]])]"
      ]
     },
     "execution_count": 16,
     "metadata": {},
     "output_type": "execute_result"
    }
   ],
   "source": [
    "mat = [np.ones((3, 3)) for _ in range(2)]\n",
    "mat"
   ]
  },
  {
   "cell_type": "code",
   "execution_count": 17,
   "id": "ad3972e8",
   "metadata": {},
   "outputs": [
    {
     "data": {
      "text/plain": [
       "[array([0.33333333, 0.33333333, 0.33333333]),\n",
       " array([0.33333333, 0.33333333, 0.33333333])]"
      ]
     },
     "execution_count": 17,
     "metadata": {},
     "output_type": "execute_result"
    }
   ],
   "source": [
    "alt_weights_parctice = [geometric_mean_weights(i) for i in mat]\n",
    "alt_weights_parctice"
   ]
  },
  {
   "cell_type": "code",
   "execution_count": 18,
   "id": "b3faf8d3",
   "metadata": {},
   "outputs": [
    {
     "data": {
      "text/plain": [
       "array([0.3, 0.7])"
      ]
     },
     "execution_count": 18,
     "metadata": {},
     "output_type": "execute_result"
    }
   ],
   "source": [
    "criteria_weights_practice = np.array([0.3, 0.7])\n",
    "criteria_weights_practice"
   ]
  },
  {
   "cell_type": "code",
   "execution_count": 19,
   "id": "a3399f78",
   "metadata": {},
   "outputs": [
    {
     "data": {
      "text/plain": [
       "array([[0.33333333, 0.33333333],\n",
       "       [0.33333333, 0.33333333],\n",
       "       [0.33333333, 0.33333333]])"
      ]
     },
     "execution_count": 19,
     "metadata": {},
     "output_type": "execute_result"
    }
   ],
   "source": [
    "alt_weights_parctice_trans =  np.array(alt_weights_parctice).T\n",
    "alt_weights_parctice_trans"
   ]
  },
  {
   "cell_type": "code",
   "execution_count": 20,
   "id": "47f19186",
   "metadata": {},
   "outputs": [
    {
     "data": {
      "text/plain": [
       "array([0.33333333, 0.33333333, 0.33333333])"
      ]
     },
     "execution_count": 20,
     "metadata": {},
     "output_type": "execute_result"
    }
   ],
   "source": [
    "alt_weights_parctice_trans @ criteria_weights_practice # @は内積。criteria_weights_practiceはベクトルとして扱われる。"
   ]
  },
  {
   "cell_type": "markdown",
   "id": "9869b773",
   "metadata": {},
   "source": [
    "# ミニAHPの実装"
   ]
  },
  {
   "cell_type": "markdown",
   "id": "07bc534b",
   "metadata": {},
   "source": [
    "## 評価基準の一対比較行列の作成"
   ]
  },
  {
   "cell_type": "code",
   "execution_count": 61,
   "id": "7ff0da9a",
   "metadata": {},
   "outputs": [
    {
     "data": {
      "text/plain": [
       "array([[1. , 5. ],\n",
       "       [0.2, 1. ]])"
      ]
     },
     "execution_count": 61,
     "metadata": {},
     "output_type": "execute_result"
    }
   ],
   "source": [
    "# 空の行列をつくる(2×2)\n",
    "A = np.zeros((2, 2))\n",
    "\n",
    "# 行列の上半分を入力する\n",
    "A[0][1] = 5\n",
    "\n",
    "# 行列の下半分を入力する\n",
    "for i in range(2):\n",
    "    for j in range(2):\n",
    "        if i > j:\n",
    "            A[i][j] = 1/A[j][i]\n",
    "\n",
    "# 対角行列を1にする\n",
    "np.fill_diagonal(A, 1)\n",
    "A"
   ]
  },
  {
   "cell_type": "markdown",
   "id": "d0cdc58f",
   "metadata": {},
   "source": [
    "## 評価基準1での一対比較行列"
   ]
  },
  {
   "cell_type": "code",
   "execution_count": 62,
   "id": "054d2f46",
   "metadata": {},
   "outputs": [
    {
     "data": {
      "text/plain": [
       "array([[1.        , 3.        , 5.        ],\n",
       "       [0.33333333, 1.        , 7.        ],\n",
       "       [0.2       , 0.14285714, 1.        ]])"
      ]
     },
     "execution_count": 62,
     "metadata": {},
     "output_type": "execute_result"
    }
   ],
   "source": [
    "# 空の行列をつくる(3×3)\n",
    "B = np.zeros((3, 3))\n",
    "\n",
    "# 行列の上半分を入力する\n",
    "B[0][1] = 3\n",
    "B[0][2] = 5\n",
    "B[1][2] = 7\n",
    "\n",
    "# 行列の下半分を入力する\n",
    "for i in range(3):\n",
    "    for j in range(3):\n",
    "        if i > j:\n",
    "            B[i][j] = 1/B[j][i]\n",
    "\n",
    "# 対角行列を1にする\n",
    "np.fill_diagonal(B, 1)\n",
    "B"
   ]
  },
  {
   "cell_type": "markdown",
   "id": "926d3ea8",
   "metadata": {},
   "source": [
    "## 評価基準2での一対比較行列"
   ]
  },
  {
   "cell_type": "code",
   "execution_count": 63,
   "id": "1cb050c2",
   "metadata": {},
   "outputs": [
    {
     "data": {
      "text/plain": [
       "array([[1.        , 3.        , 2.        ],\n",
       "       [0.33333333, 1.        , 1.        ],\n",
       "       [0.5       , 1.        , 1.        ]])"
      ]
     },
     "execution_count": 63,
     "metadata": {},
     "output_type": "execute_result"
    }
   ],
   "source": [
    "# 空の行列をつくる(3×3)\n",
    "C = np.zeros((3, 3))\n",
    "\n",
    "# 行列の上半分を入力する\n",
    "C[0][1] = 3\n",
    "C[0][2] = 2\n",
    "C[1][2] = 1\n",
    "\n",
    "# 行列の下半分を入力する\n",
    "for i in range(3):\n",
    "    for j in range(3):\n",
    "        if i > j:\n",
    "            C[i][j] = 1/C[j][i]\n",
    "\n",
    "# 対角行列を1にする\n",
    "np.fill_diagonal(C, 1)\n",
    "C"
   ]
  },
  {
   "cell_type": "markdown",
   "id": "e54fe19c",
   "metadata": {},
   "source": [
    "## 各行列のウェイトを求める"
   ]
  },
  {
   "cell_type": "code",
   "execution_count": 64,
   "id": "17a45d8f",
   "metadata": {},
   "outputs": [],
   "source": [
    "def geometric_mean_weights(matrix):\n",
    "    product = np.prod(matrix, axis = 1) # 行方向に各要素を乗じた値を求める\n",
    "    geo_mean = product ** (1 / matrix.shape[0]) # 幾何平均を求める\n",
    "    return geo_mean / np.sum(geo_mean) # ウェイトを求める\n",
    "\n",
    "A_weights = geometric_mean_weights(A) \n",
    "B_weights = geometric_mean_weights(B)\n",
    "C_weights = geometric_mean_weights(C)"
   ]
  },
  {
   "cell_type": "code",
   "execution_count": 65,
   "id": "6d2a15ff",
   "metadata": {},
   "outputs": [],
   "source": [
    "# BとCのウェイト配列をくっつける\n",
    "BC_weights = np.concatenate([[B_weights], [C_weights]], axis=0)\n"
   ]
  },
  {
   "cell_type": "code",
   "execution_count": 66,
   "id": "05d8d67c",
   "metadata": {},
   "outputs": [
    {
     "data": {
      "text/plain": [
       "array([0.59313118, 0.3046712 , 0.10219762])"
      ]
     },
     "execution_count": 66,
     "metadata": {},
     "output_type": "execute_result"
    }
   ],
   "source": [
    "# BCウェイト配列の転置行列に評価行列をかける\n",
    "BC_weights.T @ A_weights"
   ]
  }
 ],
 "metadata": {
  "kernelspec": {
   "display_name": "base",
   "language": "python",
   "name": "python3"
  },
  "language_info": {
   "codemirror_mode": {
    "name": "ipython",
    "version": 3
   },
   "file_extension": ".py",
   "mimetype": "text/x-python",
   "name": "python",
   "nbconvert_exporter": "python",
   "pygments_lexer": "ipython3",
   "version": "3.12.7"
  }
 },
 "nbformat": 4,
 "nbformat_minor": 5
}
